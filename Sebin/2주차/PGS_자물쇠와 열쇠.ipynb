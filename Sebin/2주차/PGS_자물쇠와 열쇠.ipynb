{
 "cells": [
  {
   "cell_type": "code",
   "execution_count": null,
   "id": "72d712af",
   "metadata": {},
   "outputs": [],
   "source": [
    "def solution(key, lock):\n",
    "    n=len(lock)\n",
    "    m=len(key)\n",
    "    key_li= [ [] for _ in range(4) ] # 회전했을때 키 위치\n",
    "    count_key=0\n",
    "    for r in range(len(key)):\n",
    "        for c in range(len(key)):\n",
    "            if key[r][c]==1:\n",
    "                count_key+=1\n",
    "                for i in range(4):\n",
    "                    key_li[i].append([r,c])\n",
    "                    temp = r\n",
    "                    r = c\n",
    "                    c = m-temp-1\n",
    "    lock_li=[]\n",
    "    for i in range(n): # 잠겨있는 부분\n",
    "        for j in range(n):\n",
    "            if lock[i][j]==0:\n",
    "                lock_li.append([i,j])\n",
    "    if len(lock_li)==0:\n",
    "        return True\n",
    "\n",
    "    if len(lock_li) > count_key:\n",
    "        return False\n",
    "\n",
    "    for i in range(len(lock_li)):\n",
    "        for j in range(4):\n",
    "            for k in range(count_key):\n",
    "                li = []\n",
    "                x = lock_li[i][0]-key_li[j][k][0]\n",
    "                y = lock_li[i][1]-key_li[j][k][1]\n",
    "                for g in range(count_key):\n",
    "                    li.append([key_li[j][g][0]+x, key_li[j][g][1]+y])\n",
    "                t=True\n",
    "                for lo in lock_li:\n",
    "                    if lo not in li:\n",
    "                        t=False\n",
    "                        break\n",
    "                    li.remove(lo)\n",
    "                for trash in li:\n",
    "                    if 0 <= trash[0] < n and 0 <= trash[1] < n:\n",
    "                        t=False\n",
    "                if t:\n",
    "                    return True\n",
    "    if t==False:\n",
    "        return False"
   ]
  },
  {
   "cell_type": "code",
   "execution_count": null,
   "id": "a8521c77",
   "metadata": {},
   "outputs": [],
   "source": []
  }
 ],
 "metadata": {
  "kernelspec": {
   "display_name": "Python 3 (ipykernel)",
   "language": "python",
   "name": "python3"
  },
  "language_info": {
   "codemirror_mode": {
    "name": "ipython",
    "version": 3
   },
   "file_extension": ".py",
   "mimetype": "text/x-python",
   "name": "python",
   "nbconvert_exporter": "python",
   "pygments_lexer": "ipython3",
   "version": "3.9.13"
  }
 },
 "nbformat": 4,
 "nbformat_minor": 5
}
