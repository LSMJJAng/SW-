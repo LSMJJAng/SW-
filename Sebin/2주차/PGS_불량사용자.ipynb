{
 "cells": [
  {
   "cell_type": "code",
   "execution_count": null,
   "id": "d3b65d0c",
   "metadata": {},
   "outputs": [],
   "source": [
    "# 성공"
   ]
  },
  {
   "cell_type": "code",
   "execution_count": 133,
   "id": "47075565",
   "metadata": {},
   "outputs": [
    {
     "data": {
      "text/plain": [
       "3"
      ]
     },
     "execution_count": 133,
     "metadata": {},
     "output_type": "execute_result"
    }
   ],
   "source": [
    "def solution(user_id, banned_id):\n",
    "    def dfs(li_case,n):\n",
    "        if n==len(banned_id):\n",
    "            all_case.append(li_case)\n",
    "            return\n",
    "        for i in range(len(user_id)):\n",
    "            if not user_visited[i] and len(user_id[i])==len(banned_id[n]):\n",
    "                ban_user=True\n",
    "                for k in non_star_idx[n]:\n",
    "                    if user_id[i][k] != banned_id[n][k]:\n",
    "                        ban_user=False\n",
    "                        break\n",
    "                if ban_user:\n",
    "                    user_visited[i]=True\n",
    "                    dfs(li_case+[user_id[i]],n+1)\n",
    "                    user_visited[i]=False\n",
    "    non_star_idx = []\n",
    "    for ban in banned_id:\n",
    "        li=[]\n",
    "        for i in range(len(ban)):\n",
    "            if ban[i]!='*':\n",
    "                li.append(i)\n",
    "        non_star_idx.append(li)\n",
    "    user_visited = [False]*len(user_id)\n",
    "\n",
    "    all_case=[]\n",
    "    dfs([],0)\n",
    "    \n",
    "    answer=set()\n",
    "    for i in all_case:\n",
    "        answer.add(tuple(set(sorted(i))))\n",
    "\n",
    "    return len(answer)\n",
    "solution(user_id, banned_id)           "
   ]
  },
  {
   "cell_type": "code",
   "execution_count": null,
   "id": "91f9ae7b",
   "metadata": {},
   "outputs": [],
   "source": []
  }
 ],
 "metadata": {
  "kernelspec": {
   "display_name": "Python 3 (ipykernel)",
   "language": "python",
   "name": "python3"
  },
  "language_info": {
   "codemirror_mode": {
    "name": "ipython",
    "version": 3
   },
   "file_extension": ".py",
   "mimetype": "text/x-python",
   "name": "python",
   "nbconvert_exporter": "python",
   "pygments_lexer": "ipython3",
   "version": "3.9.13"
  }
 },
 "nbformat": 4,
 "nbformat_minor": 5
}
