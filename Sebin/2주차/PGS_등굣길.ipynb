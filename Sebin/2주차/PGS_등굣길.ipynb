{
 "cells": [
  {
   "cell_type": "code",
   "execution_count": 6,
   "id": "daebfb47",
   "metadata": {},
   "outputs": [],
   "source": [
    "def solution(m, n, puddles):\n",
    "    li = [[-1]*m for _ in range(n)]\n",
    "\n",
    "    for i in puddles:\n",
    "        li[i[1]-1][i[0]-1]=0\n",
    "        \n",
    "    li[0][0]=1 # 끝 쪽 줄 미리 방문, 1 아니면 -1\n",
    "    for i in range(1,n):\n",
    "        if li[i][0]==-1:\n",
    "            li[i][0]=li[i-1][0]\n",
    "    for i in range(1,m):\n",
    "        if li[0][i]==-1:\n",
    "            li[0][i]=li[0][i-1]\n",
    "\n",
    "    for i in range(1,n):\n",
    "        for j in range(1,m):\n",
    "            if li[i][j]==-1:\n",
    "                li[i][j] = li[i-1][j]+li[i][j-1]\n",
    "    return li[n-1][m-1]%1000000007"
   ]
  }
 ],
 "metadata": {
  "kernelspec": {
   "display_name": "Python 3 (ipykernel)",
   "language": "python",
   "name": "python3"
  },
  "language_info": {
   "codemirror_mode": {
    "name": "ipython",
    "version": 3
   },
   "file_extension": ".py",
   "mimetype": "text/x-python",
   "name": "python",
   "nbconvert_exporter": "python",
   "pygments_lexer": "ipython3",
   "version": "3.9.13"
  }
 },
 "nbformat": 4,
 "nbformat_minor": 5
}
