{
 "cells": [
  {
   "cell_type": "code",
   "execution_count": null,
   "id": "9809f813",
   "metadata": {},
   "outputs": [],
   "source": [
    "from itertools import combinations\n",
    "import sys\n",
    "\n",
    "n, m = map(int,sys.stdin.readline().split())\n",
    "\n",
    "house,chicken = [],[]\n",
    "for i in range(n):\n",
    "    lis = list(map(int,input().split()))\n",
    "    for j in range(n):\n",
    "        if lis[j]==1:\n",
    "            house.append([i,j])\n",
    "        elif lis[j]==2:\n",
    "            chicken.append([i,j])\n",
    "\n",
    "comb_chicken = list(combinations(chicken,m))\n",
    "            \n",
    "min_sum=1e9\n",
    "for chick in comb_chicken:\n",
    "    sum_h=0\n",
    "    for h in house:\n",
    "        min_val=1e9\n",
    "        for c in chick:\n",
    "            min_val = min(min_val, abs(h[0]-c[0])+abs(h[1]-c[1]))\n",
    "        sum_h += min_val\n",
    "    min_sum = min(min_sum,sum_h)\n",
    "print(min_sum)"
   ]
  }
 ],
 "metadata": {
  "kernelspec": {
   "display_name": "Python 3 (ipykernel)",
   "language": "python",
   "name": "python3"
  },
  "language_info": {
   "codemirror_mode": {
    "name": "ipython",
    "version": 3
   },
   "file_extension": ".py",
   "mimetype": "text/x-python",
   "name": "python",
   "nbconvert_exporter": "python",
   "pygments_lexer": "ipython3",
   "version": "3.9.13"
  }
 },
 "nbformat": 4,
 "nbformat_minor": 5
}
