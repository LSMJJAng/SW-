{
 "cells": [
  {
   "cell_type": "markdown",
   "id": "9f3ff72d",
   "metadata": {},
   "source": [
    "ex) 6, 21\n",
    "\n",
    "3,3,3,3,3,6\n",
    "위보다 아래의 계산값이 더 크다\n",
    "3,3,3,4,4,4"
   ]
  },
  {
   "cell_type": "code",
   "execution_count": 101,
   "id": "870f8c02",
   "metadata": {},
   "outputs": [
    {
     "data": {
      "text/plain": [
       "[3, 3, 5]"
      ]
     },
     "execution_count": 101,
     "metadata": {},
     "output_type": "execute_result"
    }
   ],
   "source": [
    "def solution(n, s):\n",
    "    x = s - (s//n * n)\n",
    "    return [-1] if s//n ==0 else [s//n]*(n-x) + [(s//n)+1]*x"
   ]
  },
  {
   "cell_type": "code",
   "execution_count": null,
   "id": "9ef58afc",
   "metadata": {},
   "outputs": [],
   "source": [
    "def solution(n, s):return [-1] if s//n ==0 else [s//n]*(n-(s - (s//n * n))) + [(s//n)+1]*(s - (s//n * n))"
   ]
  },
  {
   "cell_type": "code",
   "execution_count": null,
   "id": "7a4c44f4",
   "metadata": {},
   "outputs": [],
   "source": []
  },
  {
   "cell_type": "code",
   "execution_count": null,
   "id": "76584219",
   "metadata": {},
   "outputs": [],
   "source": []
  },
  {
   "cell_type": "code",
   "execution_count": null,
   "id": "c4f177a8",
   "metadata": {},
   "outputs": [],
   "source": []
  },
  {
   "cell_type": "code",
   "execution_count": null,
   "id": "45705fcc",
   "metadata": {},
   "outputs": [],
   "source": []
  },
  {
   "cell_type": "code",
   "execution_count": null,
   "id": "f31e8855",
   "metadata": {},
   "outputs": [],
   "source": []
  },
  {
   "cell_type": "markdown",
   "id": "aea0a6b1",
   "metadata": {},
   "source": [
    "문제에서 바라지도 않았던 경우의수 구하기..."
   ]
  },
  {
   "cell_type": "code",
   "execution_count": null,
   "id": "60cbeb47",
   "metadata": {},
   "outputs": [],
   "source": [
    "1,1,7\n",
    "1,2,6\n",
    "1,3,5  2,2,5\n",
    "1,4,4  2,3,4"
   ]
  },
  {
   "cell_type": "code",
   "execution_count": 88,
   "id": "3b08c106",
   "metadata": {},
   "outputs": [],
   "source": [
    "n=3\n",
    "s=9\n",
    "li=[1]*(n-1)+[s-(n-1)]"
   ]
  },
  {
   "cell_type": "code",
   "execution_count": 92,
   "id": "3aad72cf",
   "metadata": {},
   "outputs": [],
   "source": [
    "import copy\n",
    "\n",
    "val=0\n",
    "def check(loc,t):\n",
    "    global val\n",
    "    val+=1\n",
    "    n = ((t[loc]-t[loc-1]) // 2)+1              # 몇번 for문을 반복할지\n",
    "    \n",
    "    for i in range(n):\n",
    "        if t[loc] >= t[loc-1]+2:\n",
    "            t[loc-1]=t[loc-1]+1\n",
    "            t[loc]=t[loc]-1\n",
    "            \n",
    "            check(loc-1,copy.deepcopy(t)) # deepcopy를 꼭 써야할까..?\n",
    "        else:\n",
    "            break"
   ]
  },
  {
   "cell_type": "code",
   "execution_count": 93,
   "id": "b7c683bd",
   "metadata": {},
   "outputs": [
    {
     "name": "stdout",
     "output_type": "stream",
     "text": [
      "5\n"
     ]
    }
   ],
   "source": [
    "check(n-1,li)\n",
    "print(val+1)"
   ]
  }
 ],
 "metadata": {
  "kernelspec": {
   "display_name": "Python 3 (ipykernel)",
   "language": "python",
   "name": "python3"
  },
  "language_info": {
   "codemirror_mode": {
    "name": "ipython",
    "version": 3
   },
   "file_extension": ".py",
   "mimetype": "text/x-python",
   "name": "python",
   "nbconvert_exporter": "python",
   "pygments_lexer": "ipython3",
   "version": "3.9.13"
  }
 },
 "nbformat": 4,
 "nbformat_minor": 5
}
