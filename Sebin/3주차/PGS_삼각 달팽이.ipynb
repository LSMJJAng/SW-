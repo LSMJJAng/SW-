{
 "cells": [
  {
   "cell_type": "code",
   "execution_count": null,
   "id": "90e15a1c",
   "metadata": {},
   "outputs": [],
   "source": [
    "def solution(n):\n",
    "    move = [[1,0],[0,1],[-1,-1]]\n",
    "    li=[[0]*n for _ in range(n)]\n",
    "    count,r,c,num = 0,-1,0,0\n",
    "\n",
    "    while True:\n",
    "        if count == n:\n",
    "            break\n",
    "        for _ in range(n-count):\n",
    "            num += 1\n",
    "            r = r + move[count%3][0]\n",
    "            c = c + move[count%3][1]\n",
    "            li[r][c]= num\n",
    "        count += 1\n",
    "    result=[]\n",
    "    for i in range(n):\n",
    "        for j in range(0,i+1):\n",
    "            result.append(li[i][j])\n",
    "    return result"
   ]
  }
 ],
 "metadata": {
  "kernelspec": {
   "display_name": "Python 3 (ipykernel)",
   "language": "python",
   "name": "python3"
  },
  "language_info": {
   "codemirror_mode": {
    "name": "ipython",
    "version": 3
   },
   "file_extension": ".py",
   "mimetype": "text/x-python",
   "name": "python",
   "nbconvert_exporter": "python",
   "pygments_lexer": "ipython3",
   "version": "3.9.13"
  }
 },
 "nbformat": 4,
 "nbformat_minor": 5
}
