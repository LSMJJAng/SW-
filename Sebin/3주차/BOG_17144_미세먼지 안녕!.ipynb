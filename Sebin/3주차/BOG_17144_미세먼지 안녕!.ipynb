{
 "cells": [
  {
   "cell_type": "code",
   "execution_count": 175,
   "id": "c3f8cded",
   "metadata": {},
   "outputs": [
    {
     "name": "stdout",
     "output_type": "stream",
     "text": [
      "7 8 2\n"
     ]
    }
   ],
   "source": [
    "R, C, T = map(int, input().split(\" \"))\n",
    "\n",
    "cal = [[0]*C for _ in range(R)]\n",
    "li = []\n",
    "\n",
    "for i in range(R):\n",
    "    li.append(list(map(int, input().split(\" \"))))\n",
    "    \n",
    "for i in range(R):\n",
    "    if li[i][0] == -1:\n",
    "        m_loc = [i,i+1]\n",
    "        break    \n",
    "        \n",
    "dx=[0,0,1,-1]\n",
    "dy=[1,-1,0,0]\n",
    "\n",
    "def 미세먼지확산(r,c):\n",
    "    if li[r][c]>=5:\n",
    "        extend = li[r][c]//5\n",
    "        for i in range(4): # 상하좌우 퍼짐\n",
    "            nx = c + dx[i]\n",
    "            ny = r + dy[i]\n",
    "            if 0 <= nx < C and 0 <= ny < R:\n",
    "                if nx==0 and ny in m_loc:\n",
    "                    continue\n",
    "                li[r][c] -= extend\n",
    "                cal[ny][nx] += extend\n",
    "\n",
    "    \n",
    "def 환기():\n",
    "    for left in range(m_loc[0]-1,0,-1):\n",
    "        li[left][0] = li[left-1][0]\n",
    "        li[left-1][0]=0\n",
    "        \n",
    "    for top in range(C-1):\n",
    "        li[0][top] = li[0][top+1]\n",
    "        \n",
    "    for right in range(m_loc[0]):\n",
    "        li[right][C-1] = li[right+1][C-1]\n",
    "        \n",
    "    for under in range(C-1,1,-1):\n",
    "        li[m_loc[0]][under] = li[m_loc[0]][under-1]\n",
    "        li[m_loc[0]][under-1]=0\n",
    "        \n",
    "    for left in range(m_loc[1]+1,R-1):\n",
    "        li[left][0] = li[left+1][0]\n",
    "        li[left+1][0]=0\n",
    "    \n",
    "    for under in range(C-1):\n",
    "        li[R-1][under] = li[R-1][under+1]\n",
    "    \n",
    "    for right in range(R-1, m_loc[1],-1):\n",
    "        li[right][C-1] = li[right-1][C-1]\n",
    "        \n",
    "    for top in range(C-1,1,-1):\n",
    "        li[m_loc[1]][top] = li[m_loc[1]][top-1]\n",
    "        li[m_loc[1]][top-1]=0\n",
    "        \n",
    "def 개수():\n",
    "    n=0\n",
    "    for i in range(R):\n",
    "        for j in range(C):\n",
    "            n+=li[i][j]\n",
    "    return n\n",
    "\n",
    "for i in range(T):\n",
    "    for i in range(R):\n",
    "        for j in range(C):\n",
    "            미세먼지확산(i,j)\n",
    "\n",
    "    for i in range(R):\n",
    "        for j in range(C):\n",
    "            li[i][j]+=cal[i][j]\n",
    "            cal[i][j]=0\n",
    "    환기()\n",
    "\n",
    "print(개수()+2)"
   ]
  },
  {
   "cell_type": "code",
   "execution_count": null,
   "id": "74369c0d",
   "metadata": {},
   "outputs": [],
   "source": []
  }
 ],
 "metadata": {
  "kernelspec": {
   "display_name": "Python 3 (ipykernel)",
   "language": "python",
   "name": "python3"
  },
  "language_info": {
   "codemirror_mode": {
    "name": "ipython",
    "version": 3
   },
   "file_extension": ".py",
   "mimetype": "text/x-python",
   "name": "python",
   "nbconvert_exporter": "python",
   "pygments_lexer": "ipython3",
   "version": "3.9.13"
  }
 },
 "nbformat": 4,
 "nbformat_minor": 5
}
