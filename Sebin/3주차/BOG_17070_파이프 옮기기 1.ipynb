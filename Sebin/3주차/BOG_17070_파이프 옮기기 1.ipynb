{
 "cells": [
  {
   "cell_type": "code",
   "execution_count": null,
   "id": "4490fc91",
   "metadata": {},
   "outputs": [],
   "source": [
    "## 시간초과..!\n",
    "\n",
    "n = int(input())\n",
    "li = []\n",
    "for i in range(n):\n",
    "    li.append(list(map(int,input().split(\" \"))))\n",
    "\n",
    "move = [[0,0,1],[1,1,1],[2,1,0]]\n",
    "pipe = [[0,1],[0,1,2],[1,2]]\n",
    "\n",
    "start = [0,1]\n",
    "pipe_state = 0\n",
    "count = 0\n",
    "def dfs(state,r,c):\n",
    "    global count\n",
    "    if c==n-1:\n",
    "        if r==n-1:\n",
    "            count+=1\n",
    "            return\n",
    "\n",
    "    for i in pipe[state]:\n",
    "        nx,ny = r+move[i][1],c+move[i][2]\n",
    "        if 0<=nx<n and 0<=ny<n and li[nx][ny]==0:\n",
    "            if move[i][0]==1 and (li[nx][ny]==1 or li[nx-1][ny]==1 or li[nx][ny-1]==1):\n",
    "                continue\n",
    "            dfs(move[i][0],nx,ny)\n",
    "\n",
    "dfs(0,0,1)\n",
    "print(count)"
   ]
  },
  {
   "cell_type": "code",
   "execution_count": null,
   "id": "2a8b0948",
   "metadata": {},
   "outputs": [],
   "source": []
  },
  {
   "cell_type": "code",
   "execution_count": null,
   "id": "ef692db2",
   "metadata": {},
   "outputs": [],
   "source": []
  },
  {
   "cell_type": "code",
   "execution_count": null,
   "id": "335b4fa5",
   "metadata": {},
   "outputs": [],
   "source": []
  }
 ],
 "metadata": {
  "kernelspec": {
   "display_name": "Python 3 (ipykernel)",
   "language": "python",
   "name": "python3"
  },
  "language_info": {
   "codemirror_mode": {
    "name": "ipython",
    "version": 3
   },
   "file_extension": ".py",
   "mimetype": "text/x-python",
   "name": "python",
   "nbconvert_exporter": "python",
   "pygments_lexer": "ipython3",
   "version": "3.9.13"
  }
 },
 "nbformat": 4,
 "nbformat_minor": 5
}
