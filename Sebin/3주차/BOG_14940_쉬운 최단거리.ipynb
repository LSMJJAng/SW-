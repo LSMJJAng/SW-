{
 "cells": [
  {
   "cell_type": "code",
   "execution_count": null,
   "id": "d449e595",
   "metadata": {},
   "outputs": [],
   "source": [
    "from collections import deque\n",
    "n,m = map(int,input().split(\" \"))\n",
    "\n",
    "li=[]\n",
    "for i in range(n):\n",
    "    li.append(list(map(int,input().split(\" \"))))\n",
    "\n",
    "for i in range(n):\n",
    "    for j in range(m):\n",
    "        if li[i][j]==2:\n",
    "            st_r,st_c = i,j\n",
    "            li[i][j] = 0\n",
    "        elif li[i][j]==1:\n",
    "            li[i][j] = -1\n",
    "\n",
    "dx=[0,0,-1,1]\n",
    "dy=[1,-1,0,0]\n",
    "\n",
    "check = deque()\n",
    "\n",
    "for i in range(4):\n",
    "    ny = st_r+dy[i]\n",
    "    nx = st_c+dx[i]\n",
    "    if 0 <= ny <n and 0 <= nx <m and li[ny][nx] == -1:\n",
    "        check.append([ny,nx])\n",
    "        li[ny][nx]=1\n",
    "\n",
    "while check:\n",
    "        break\n",
    "    r,c = check.popleft()\n",
    "    for i in range(4):\n",
    "        ny = r + dy[i]\n",
    "        nx = c + dx[i]\n",
    "        if 0 <= ny < n and 0 <= nx < m:\n",
    "            if li[ny][nx] == -1:\n",
    "                li[ny][nx] = li[r][c]+1\n",
    "                check.append([ny,nx])\n",
    "            elif li[r][c] + 1 < li[ny][nx]:\n",
    "                li[ny][nx] = li[r][c]+1\n",
    "                check.append([ny,nx])\n",
    "for i in li:\n",
    "     print(\" \".join(map(str, i)))\n"
   ]
  }
 ],
 "metadata": {
  "kernelspec": {
   "display_name": "Python 3 (ipykernel)",
   "language": "python",
   "name": "python3"
  },
  "language_info": {
   "codemirror_mode": {
    "name": "ipython",
    "version": 3
   },
   "file_extension": ".py",
   "mimetype": "text/x-python",
   "name": "python",
   "nbconvert_exporter": "python",
   "pygments_lexer": "ipython3",
   "version": "3.9.13"
  }
 },
 "nbformat": 4,
 "nbformat_minor": 5
}
