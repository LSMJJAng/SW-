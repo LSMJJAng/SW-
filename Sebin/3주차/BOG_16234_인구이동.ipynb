{
 "cells": [
  {
   "cell_type": "code",
   "execution_count": null,
   "id": "d81eef15",
   "metadata": {},
   "outputs": [],
   "source": [
    "n,L,R = map(int,input().split())\n",
    "\n",
    "li=[]\n",
    "for i in range(n):\n",
    "    li.append(list(map(int,input().split())))\n",
    "\n",
    "from collections import deque\n",
    "\n",
    "def bfs(x,y):\n",
    "    global sum_val, c_val, today\n",
    "    q=deque()\n",
    "    q.append([x,y])\n",
    "    change_li.append([x,y])\n",
    "    sum_val, c_val = li[x][y], 1\n",
    "    while q:\n",
    "        r,c = q.popleft()\n",
    "        visited[r][c] = 1\n",
    "        for i in range(4):\n",
    "            nx = c + dx[i]\n",
    "            ny = r + dy[i]\n",
    "            if 0 <= nx < n and 0 <= ny < n:\n",
    "                if visited[ny][nx]==0:\n",
    "                    if L <= abs(li[r][c]-li[ny][nx]) <= R:\n",
    "                        q.append([ny,nx])\n",
    "                        change_li.append([ny,nx])\n",
    "                        sum_val+=li[ny][nx]\n",
    "                        c_val+=1\n",
    "                        visited[ny][nx] = 1\n",
    "\n",
    "def change():\n",
    "    for i in change_li:\n",
    "        li[i[0]][i[1]]=(sum_val//c_val)\n",
    "\n",
    "dx = [0,0,-1,1]\n",
    "dy = [-1,1,0,0]\n",
    "count=0\n",
    "\n",
    "while 1:\n",
    "    today=False\n",
    "    visited= [[0]*n for i in range(n)]\n",
    "    for i in range(n):\n",
    "        for j in range(n):\n",
    "            if visited[i][j]==0:\n",
    "                change_li=[]\n",
    "                bfs(i,j)\n",
    "                if c_val > 1:\n",
    "                    change()\n",
    "                    today=True            \n",
    "    if today:\n",
    "        count+=1\n",
    "    else:\n",
    "        break\n",
    "print(count)"
   ]
  }
 ],
 "metadata": {
  "kernelspec": {
   "display_name": "Python 3 (ipykernel)",
   "language": "python",
   "name": "python3"
  },
  "language_info": {
   "codemirror_mode": {
    "name": "ipython",
    "version": 3
   },
   "file_extension": ".py",
   "mimetype": "text/x-python",
   "name": "python",
   "nbconvert_exporter": "python",
   "pygments_lexer": "ipython3",
   "version": "3.9.13"
  }
 },
 "nbformat": 4,
 "nbformat_minor": 5
}
