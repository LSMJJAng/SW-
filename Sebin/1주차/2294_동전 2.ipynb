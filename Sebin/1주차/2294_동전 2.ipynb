{
 "cells": [
  {
   "cell_type": "code",
   "execution_count": 12,
   "id": "33789790",
   "metadata": {},
   "outputs": [
    {
     "name": "stdout",
     "output_type": "stream",
     "text": [
      "3 15\n",
      "1\n",
      "5\n",
      "12\n"
     ]
    }
   ],
   "source": [
    "n,k = list(map(int, input().split(\" \")))\n",
    "money = [100000]*(k+1)\n",
    "coin=[]\n",
    "for i in range(n):\n",
    "    c = int(input())\n",
    "    coin.append(c)\n",
    "    if k >= c:\n",
    "        money[c]=1"
   ]
  },
  {
   "cell_type": "code",
   "execution_count": 13,
   "id": "2e7feca8",
   "metadata": {},
   "outputs": [],
   "source": [
    "coin.sort()"
   ]
  },
  {
   "cell_type": "code",
   "execution_count": 14,
   "id": "9d35cd7c",
   "metadata": {},
   "outputs": [],
   "source": [
    "for i in range(1,k+1):\n",
    "    for c in coin:\n",
    "        if i > c:\n",
    "            money[i]=min(money[i-c]+1,money[i])\n",
    "        else:\n",
    "            break"
   ]
  },
  {
   "cell_type": "code",
   "execution_count": 15,
   "id": "388f6d87",
   "metadata": {},
   "outputs": [
    {
     "name": "stdout",
     "output_type": "stream",
     "text": [
      "3\n"
     ]
    }
   ],
   "source": [
    "if money[k]==100000:\n",
    "    print(-1)\n",
    "else:\n",
    "    print(money[k])"
   ]
  }
 ],
 "metadata": {
  "kernelspec": {
   "display_name": "Python 3 (ipykernel)",
   "language": "python",
   "name": "python3"
  },
  "language_info": {
   "codemirror_mode": {
    "name": "ipython",
    "version": 3
   },
   "file_extension": ".py",
   "mimetype": "text/x-python",
   "name": "python",
   "nbconvert_exporter": "python",
   "pygments_lexer": "ipython3",
   "version": "3.10.9"
  }
 },
 "nbformat": 4,
 "nbformat_minor": 5
}
