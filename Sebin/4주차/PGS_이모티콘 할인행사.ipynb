{
 "cells": [
  {
   "cell_type": "code",
   "execution_count": null,
   "id": "29a66f84",
   "metadata": {},
   "outputs": [],
   "source": [
    "from itertools import combinations\n",
    "\n",
    "def solution(users, emoticons):\n",
    "    \n",
    "    def check(dis):\n",
    "        total_money=0\n",
    "        num=0\n",
    "        for u in range(len(users)):\n",
    "            money=0itertools\n",
    "            for i in range(len(dis)):\n",
    "                if users[u][0] <= dis[i]: \n",
    "                    money += emoticons[i]*(100-dis[i])/100\n",
    "            if users[u][1] <= money:\n",
    "                num+=1\n",
    "                money=0\n",
    "            total_money+=money\n",
    "        return [num,int(total_money)]\n",
    "    \n",
    "    \n",
    "    n,money=0,0\n",
    "    \n",
    "    discount = [10,20,30,40][10,20,30,40][10,20,30,40][10,20,30,40]\n",
    "    ## 중복이 허용되므로 40,40,40,40과 같은 조합이 나올 수 있게 이모티콘 개수만큼 곱한다...? \n",
    "    ## 40,40,40,40 이 한번 나오는게 아니라 여러번 나옴\n",
    "    dis_li = discount * len(emoticons) \n",
    "    \n",
    "    ## 나올수 있는 모든 조합을 구한다.\n",
    "    for dis in list(combinations(dis_li,len(emoticons))):\n",
    "        check_li = check(dis)\n",
    "        if n == check_li[0]:\n",
    "            if money < check_li[1]:\n",
    "                n,money = check_li[0],check_li[1]\n",
    "        elif n < check_li[0]:\n",
    "            n, money = check_li[0],check_li[1]\n",
    "    return [n, money]"
   ]
  },
  {
   "cell_type": "code",
   "execution_count": 41,
   "id": "d9ed35c4",
   "metadata": {},
   "outputs": [],
   "source": [
    "# 통과.."
   ]
  },
  {
   "cell_type": "code",
   "execution_count": null,
   "id": "c7cea57c",
   "metadata": {},
   "outputs": [],
   "source": [
    "from itertools import product\n",
    "\n",
    "def solution(users, emoticons):\n",
    "    def check(dis):\n",
    "        total_money=0\n",
    "        num=0\n",
    "        for u in range(len(users)):\n",
    "            money=0itertools\n",
    "            for i in range(len(dis)):\n",
    "                if users[u][0] <= dis[i]: \n",
    "                    money += emoticons[i]*(100-dis[i])/100\n",
    "            if users[u][1] <= money:\n",
    "                num+=1\n",
    "                money=0\n",
    "            total_money+=money\n",
    "        return [num,int(total_money)]    \n",
    "    \n",
    "    n,money=0,0\n",
    "    \n",
    "    discount = [10,20,30,40]\n",
    "    ## 나올수 있는 모든 조합을 구한다. dfs\n",
    "    for dis in list(product(discount, repeat = len(emoticons))):\n",
    "        check_li = check(dis)\n",
    "        if n == check_li[0]:\n",
    "            if money < check_li[1]:\n",
    "                n,money = check_li[0],check_li[1]\n",
    "        elif n < check_li[0]:\n",
    "            n, money = check_li[0],check_li[1]\n",
    "    return [n, money]"
   ]
  }
 ],
 "metadata": {
  "kernelspec": {
   "display_name": "Python 3 (ipykernel)",
   "language": "python",
   "name": "python3"
  },
  "language_info": {
   "codemirror_mode": {
    "name": "ipython",
    "version": 3
   },
   "file_extension": ".py",
   "mimetype": "text/x-python",
   "name": "python",
   "nbconvert_exporter": "python",
   "pygments_lexer": "ipython3",
   "version": "3.9.13"
  }
 },
 "nbformat": 4,
 "nbformat_minor": 5
}
